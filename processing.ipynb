{
 "cells": [
  {
   "cell_type": "code",
   "execution_count": null,
   "metadata": {},
   "outputs": [
    {
     "ename": "",
     "evalue": "",
     "output_type": "error",
     "traceback": [
      "\u001b[1;31mRunning cells with '.venv (Python 3.12.4)' requires the ipykernel package.\n",
      "\u001b[1;31mRun the following command to install 'ipykernel' into the Python environment. \n",
      "\u001b[1;31mCommand: 'c:/Users/lukef/Documents/LocalRepos/eapps/.venv/Scripts/python.exe -m pip install ipykernel -U --force-reinstall'"
     ]
    }
   ],
   "source": [
    "import os\n",
    "import pandas as pd"
   ]
  },
  {
   "cell_type": "code",
   "execution_count": null,
   "metadata": {},
   "outputs": [
    {
     "ename": "",
     "evalue": "",
     "output_type": "error",
     "traceback": [
      "\u001b[1;31mRunning cells with '.venv (Python 3.12.4)' requires the ipykernel package.\n",
      "\u001b[1;31mRun the following command to install 'ipykernel' into the Python environment. \n",
      "\u001b[1;31mCommand: 'c:/Users/lukef/Documents/LocalRepos/eapps/.venv/Scripts/python.exe -m pip install ipykernel -U --force-reinstall'"
     ]
    }
   ],
   "source": [
    "\"\"\"Determine file path\"\"\"\n",
    "path = os.path.dirname(os.path.abspath(\"eapps_processing.ipynb\"))\n",
    "print(path)"
   ]
  },
  {
   "cell_type": "code",
   "execution_count": null,
   "metadata": {},
   "outputs": [
    {
     "ename": "",
     "evalue": "",
     "output_type": "error",
     "traceback": [
      "\u001b[1;31mRunning cells with '.venv (Python 3.12.4)' requires the ipykernel package.\n",
      "\u001b[1;31mRun the following command to install 'ipykernel' into the Python environment. \n",
      "\u001b[1;31mCommand: 'c:/Users/lukef/Documents/LocalRepos/eapps/.venv/Scripts/python.exe -m pip install ipykernel -U --force-reinstall'"
     ]
    }
   ],
   "source": [
    "\"\"\"Create dataframes from new and previous results\"\"\"\n",
    "\n",
    "raw_path = fr\"{path}\\raw\\results.csv\"\n",
    "processed_path = fr\"{path}\\processed\\results.csv\"\n",
    "\n",
    "df = pd.read_csv(raw_path)\n",
    "processed_df = pd.read_csv(processed_path)"
   ]
  },
  {
   "cell_type": "code",
   "execution_count": null,
   "metadata": {},
   "outputs": [
    {
     "ename": "",
     "evalue": "",
     "output_type": "error",
     "traceback": [
      "\u001b[1;31mRunning cells with '.venv (Python 3.12.4)' requires the ipykernel package.\n",
      "\u001b[1;31mRun the following command to install 'ipykernel' into the Python environment. \n",
      "\u001b[1;31mCommand: 'c:/Users/lukef/Documents/LocalRepos/eapps/.venv/Scripts/python.exe -m pip install ipykernel -U --force-reinstall'"
     ]
    }
   ],
   "source": [
    "df = df.dropna(subset=[\"case_status\", \"case_number\", \"architect\", \"applicant\", \"description\"])"
   ]
  },
  {
   "cell_type": "code",
   "execution_count": null,
   "metadata": {},
   "outputs": [
    {
     "ename": "",
     "evalue": "",
     "output_type": "error",
     "traceback": [
      "\u001b[1;31mRunning cells with '.venv (Python 3.12.4)' requires the ipykernel package.\n",
      "\u001b[1;31mRun the following command to install 'ipykernel' into the Python environment. \n",
      "\u001b[1;31mCommand: 'c:/Users/lukef/Documents/LocalRepos/eapps/.venv/Scripts/python.exe -m pip install ipykernel -U --force-reinstall'"
     ]
    }
   ],
   "source": [
    "# Remove \"Dr\" and \"Perit\" and clean up whitespace\n",
    "df['architect'] = df['architect'].str.replace(r'\\s*Dr\\s*|\\s*Perit\\s*', '', regex=True).str.strip()"
   ]
  },
  {
   "cell_type": "code",
   "execution_count": null,
   "metadata": {},
   "outputs": [
    {
     "ename": "",
     "evalue": "",
     "output_type": "error",
     "traceback": [
      "\u001b[1;31mRunning cells with '.venv (Python 3.12.4)' requires the ipykernel package.\n",
      "\u001b[1;31mRun the following command to install 'ipykernel' into the Python environment. \n",
      "\u001b[1;31mCommand: 'c:/Users/lukef/Documents/LocalRepos/eapps/.venv/Scripts/python.exe -m pip install ipykernel -U --force-reinstall'"
     ]
    }
   ],
   "source": [
    "def reverse_names(name):\n",
    "    exemptions = [\"X,Y,Z Architecture & Design\", \"Mangion, Mangion & Partners\", \"Nois currently responsible for this case. X,Y,Z Architecture & Design relinquished responsibility on 20 July 2020\", \"Innovative Design Architects (iDA) 23, Triq Titu B\"]\n",
    "    if name not in exemptions:\n",
    "        parts = name.split(',')\n",
    "        if len(parts) == 2:\n",
    "            return f'{parts[1].strip()} {parts[0].strip()}'\n",
    "        else:\n",
    "            return name\n",
    "    \n",
    "df['architect'] = df['architect'].apply(reverse_names)"
   ]
  },
  {
   "cell_type": "code",
   "execution_count": null,
   "metadata": {},
   "outputs": [
    {
     "ename": "",
     "evalue": "",
     "output_type": "error",
     "traceback": [
      "\u001b[1;31mRunning cells with '.venv (Python 3.12.4)' requires the ipykernel package.\n",
      "\u001b[1;31mRun the following command to install 'ipykernel' into the Python environment. \n",
      "\u001b[1;31mCommand: 'c:/Users/lukef/Documents/LocalRepos/eapps/.venv/Scripts/python.exe -m pip install ipykernel -U --force-reinstall'"
     ]
    }
   ],
   "source": [
    "df['applicant'] = df['applicant'].str.replace('.*Attn: ', '', regex=True)\n",
    "df['applicant'] = df['applicant'].str.replace('.*Attn. ', '', regex=True)\n",
    "df['applicant'] = df['applicant'].str.replace('.*Attn ', '', regex=True)\n",
    "df['applicant'] = df['applicant'].str.replace('.*represented by ', '', regex=True)\n",
    "df['applicant'] = df['applicant'].str.replace(' obo .*', '', regex=True)\n",
    "df['applicant'] = df['applicant'].str.replace(' o.b.o .*', '', regex=True)\n",
    "df['applicant'] = df['applicant'].str.replace(' o.b.o. .*', '', regex=True)\n",
    "df['applicant'] = df['applicant'].str.replace(' o.b.o. .*', '', regex=True)\n",
    "df['applicant'] = df['applicant'].str.replace(r'\\s*\\(o\\.b\\.o.*', '', regex=True)"
   ]
  },
  {
   "cell_type": "code",
   "execution_count": null,
   "metadata": {},
   "outputs": [
    {
     "ename": "",
     "evalue": "",
     "output_type": "error",
     "traceback": [
      "\u001b[1;31mRunning cells with '.venv (Python 3.12.4)' requires the ipykernel package.\n",
      "\u001b[1;31mRun the following command to install 'ipykernel' into the Python environment. \n",
      "\u001b[1;31mCommand: 'c:/Users/lukef/Documents/LocalRepos/eapps/.venv/Scripts/python.exe -m pip install ipykernel -U --force-reinstall'"
     ]
    }
   ],
   "source": [
    "df['applicant'] = df['applicant'].str.replace(r'^\\s*(?:Mr\\.|Mrs\\.|Mr |Ms\\.|Ms |Dr\\.|Dr |Ing\\.|Ing |Fr\\.|Fr|Rev\\.|Rev\\. )\\s*', '', regex=True)"
   ]
  },
  {
   "cell_type": "code",
   "execution_count": null,
   "metadata": {},
   "outputs": [
    {
     "ename": "",
     "evalue": "",
     "output_type": "error",
     "traceback": [
      "\u001b[1;31mRunning cells with '.venv (Python 3.12.4)' requires the ipykernel package.\n",
      "\u001b[1;31mRun the following command to install 'ipykernel' into the Python environment. \n",
      "\u001b[1;31mCommand: 'c:/Users/lukef/Documents/LocalRepos/eapps/.venv/Scripts/python.exe -m pip install ipykernel -U --force-reinstall'"
     ]
    }
   ],
   "source": [
    "df['applicant'] = df['applicant'].apply(lambda x: x.title() if isinstance(x, str) else x)"
   ]
  },
  {
   "cell_type": "code",
   "execution_count": null,
   "metadata": {},
   "outputs": [
    {
     "ename": "",
     "evalue": "",
     "output_type": "error",
     "traceback": [
      "\u001b[1;31mRunning cells with '.venv (Python 3.12.4)' requires the ipykernel package.\n",
      "\u001b[1;31mRun the following command to install 'ipykernel' into the Python environment. \n",
      "\u001b[1;31mCommand: 'c:/Users/lukef/Documents/LocalRepos/eapps/.venv/Scripts/python.exe -m pip install ipykernel -U --force-reinstall'"
     ]
    }
   ],
   "source": [
    "df[['application_type', 'application_number', 'application_year']] = df['case_number'].str.split('/', expand=True)"
   ]
  },
  {
   "cell_type": "code",
   "execution_count": null,
   "metadata": {},
   "outputs": [
    {
     "ename": "",
     "evalue": "",
     "output_type": "error",
     "traceback": [
      "\u001b[1;31mRunning cells with '.venv (Python 3.12.4)' requires the ipykernel package.\n",
      "\u001b[1;31mRun the following command to install 'ipykernel' into the Python environment. \n",
      "\u001b[1;31mCommand: 'c:/Users/lukef/Documents/LocalRepos/eapps/.venv/Scripts/python.exe -m pip install ipykernel -U --force-reinstall'"
     ]
    }
   ],
   "source": [
    "columns_to_process = ['description', 'applicant', 'architect', 'location']\n",
    "df[columns_to_process] = df[columns_to_process].applymap(lambda x: x.replace(\"â€™\", \"'\") if isinstance(x, str) else x)\n",
    "df[columns_to_process] = df[columns_to_process].applymap(lambda x: x.replace('\\u2019', \"'\") if isinstance(x, str) else x)"
   ]
  },
  {
   "cell_type": "code",
   "execution_count": null,
   "metadata": {},
   "outputs": [
    {
     "ename": "",
     "evalue": "",
     "output_type": "error",
     "traceback": [
      "\u001b[1;31mRunning cells with '.venv (Python 3.12.4)' requires the ipykernel package.\n",
      "\u001b[1;31mRun the following command to install 'ipykernel' into the Python environment. \n",
      "\u001b[1;31mCommand: 'c:/Users/lukef/Documents/LocalRepos/eapps/.venv/Scripts/python.exe -m pip install ipykernel -U --force-reinstall'"
     ]
    }
   ],
   "source": [
    "# Concatenate the dataframes\n",
    "concatenated_df = pd.concat([processed_df, df], ignore_index=True)\n",
    "\n",
    "# Keep only unique rows based on the 'Name' column\n",
    "unique_df = concatenated_df.drop_duplicates(subset='case_number', keep='last')\n",
    "\n",
    "# Display the updated dataframe\n",
    "print(unique_df)"
   ]
  },
  {
   "cell_type": "code",
   "execution_count": null,
   "metadata": {},
   "outputs": [
    {
     "ename": "",
     "evalue": "",
     "output_type": "error",
     "traceback": [
      "\u001b[1;31mRunning cells with '.venv (Python 3.12.4)' requires the ipykernel package.\n",
      "\u001b[1;31mRun the following command to install 'ipykernel' into the Python environment. \n",
      "\u001b[1;31mCommand: 'c:/Users/lukef/Documents/LocalRepos/eapps/.venv/Scripts/python.exe -m pip install ipykernel -U --force-reinstall'"
     ]
    }
   ],
   "source": [
    "unique_df.to_csv(processed_path, encoding='utf-8', index=False)"
   ]
  }
 ],
 "metadata": {
  "kernelspec": {
   "display_name": ".venv",
   "language": "python",
   "name": "python3"
  },
  "language_info": {
   "codemirror_mode": {
    "name": "ipython",
    "version": 3
   },
   "file_extension": ".py",
   "mimetype": "text/x-python",
   "name": "python",
   "nbconvert_exporter": "python",
   "pygments_lexer": "ipython3",
   "version": "3.12.4"
  }
 },
 "nbformat": 4,
 "nbformat_minor": 2
}
